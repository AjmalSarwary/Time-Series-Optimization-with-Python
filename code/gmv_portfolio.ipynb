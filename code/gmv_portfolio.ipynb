{
  "nbformat": 4,
  "nbformat_minor": 0,
  "metadata": {
    "colab": {
      "provenance": [],
      "authorship_tag": "ABX9TyMf12kjVPDm8iUFulpXdFSo",
      "include_colab_link": true
    },
    "kernelspec": {
      "name": "python3",
      "display_name": "Python 3"
    },
    "language_info": {
      "name": "python"
    }
  },
  "cells": [
    {
      "cell_type": "markdown",
      "metadata": {
        "id": "view-in-github",
        "colab_type": "text"
      },
      "source": [
        "<a href=\"https://colab.research.google.com/github/AjmalSarwary/invest_ml/blob/master/code/gmv_portfolio.ipynb\" target=\"_parent\"><img src=\"https://colab.research.google.com/assets/colab-badge.svg\" alt=\"Open In Colab\"/></a>"
      ]
    },
    {
      "cell_type": "markdown",
      "source": [
        "#General Minimum Volatility (GMV) Portfolio Strategy\n",
        "\n",
        "In this notebook, I delve into the General Minimum Volatility (GMV) strategy, an approach that circumvents the complexities and uncertainties associated with estimating expected returns in portfolio management.\n",
        "\n",
        "##The Challenge of Estimating Expected Returns:\n",
        "Estimating expected returns is fraught with difficulty due to market unpredictability. Small errors in these estimates, when used in optimization models, can lead to drastic shifts in investment allocations, pushing portfolios towards risky compositions.\n",
        "\n",
        "##The GMV Approach:\n",
        "To tackle this, I focus on the GMV strategy, which minimizes volatility without estimating expected returns. Constructed based on the covariance matrix of asset returns, the GMV portfolio aims for the lowest possible volatility, offering a stable method for portfolio construction in uncertain scenarios.\n",
        "\n",
        "##Implementation and Analysis:\n",
        "In this notebook, I will implement the GMV strategy, analyze its performance, and compare it to other methods. I'll examine how GMV stands as a robust alternative when return predictions are unfeasible or risky."
      ],
      "metadata": {
        "id": "ei2h1LlTZ-im"
      }
    },
    {
      "cell_type": "code",
      "execution_count": 7,
      "metadata": {
        "id": "K1VBA_ZFkq3q",
        "colab": {
          "base_uri": "https://localhost:8080/"
        },
        "outputId": "1c2c31bf-ec07-4d7b-e867-60dc239caf89"
      },
      "outputs": [
        {
          "output_type": "stream",
          "name": "stdout",
          "text": [
            "Cloning into 'invest_ml'...\n",
            "remote: Enumerating objects: 169, done.\u001b[K\n",
            "remote: Counting objects: 100% (169/169), done.\u001b[K\n",
            "remote: Compressing objects: 100% (124/124), done.\u001b[K\n",
            "remote: Total 169 (delta 47), reused 120 (delta 34), pack-reused 0\u001b[K\n",
            "Receiving objects: 100% (169/169), 1.47 MiB | 14.88 MiB/s, done.\n",
            "Resolving deltas: 100% (47/47), done.\n",
            "/content/invest_ml\n"
          ]
        }
      ],
      "source": [
        "!git clone https://github.com/ajmalsarwary/invest_ml.git\n",
        "%cd /content/invest_ml\n",
        "import sys\n",
        "sys.path.append('/content/invest_ml/code')"
      ]
    },
    {
      "cell_type": "code",
      "source": [
        "import invest_risk_kit as rk\n",
        "import pandas as pd\n",
        "import numpy as np"
      ],
      "metadata": {
        "id": "cLxfUqCnBlPq"
      },
      "execution_count": 8,
      "outputs": []
    },
    {
      "cell_type": "code",
      "source": [
        "# Using the `get_ind_returns()` function from the 'rk' module to fetch historical returns\n",
        "# for different industry portfolios where each column represents an industry,\n",
        "# and each row represents a time period\n",
        "ind = rk.get_ind_returns()\n",
        "\n",
        "# Calculating baseline for annual returns (simplified expected retruns) from historic retruns\n",
        "# therefore, annualizing historic returns using the `annualize_rets()` function\n",
        "# this function converts any-periodic returns to annualized returns\n",
        "# here, it's applied to the data from 1996 to 2000, and assumes 12 periods in a year\n",
        "er = rk.annualize_rets(ind[\"1996\":\"2000\"], 12)\n",
        "\n",
        "# From historic returns, calculating the covariance matrix for the same period, joint variability between the returns of\n",
        "# the industries, indicative of how different industries' returns move together\n",
        "cov = ind[\"1996\":\"2000\"].cov()\n",
        "\n",
        "# Defining a list with the industries of interest. In this case, I am focusing on 'Food' and 'Steel'.\n",
        "l = ['Food', 'Steel']\n",
        "\n",
        "# Using the `msr()` function from the 'rk' module to find the weights of the maximum Sharpe ratio portfolio\n",
        "# the arguments are: a risk-free rate (10% in this example), the annualized returns for the selected\n",
        "# industries, and the covariance matrix for those industries\n",
        "# this function calculates which combination of 'Food' and 'Steel' will yield the highest expected\n",
        "# return per unit of risk, given the risk-free rate.\n",
        "rk.msr(0.1, er[l], cov.loc[l,l])"
      ],
      "metadata": {
        "colab": {
          "base_uri": "https://localhost:8080/"
        },
        "id": "WNU3bEC6JqXt",
        "outputId": "b4a2c1d8-e402-4fc0-f0ca-911bc8ddee0b"
      },
      "execution_count": 9,
      "outputs": [
        {
          "output_type": "execute_result",
          "data": {
            "text/plain": [
              "array([0.75040362, 0.24959638])"
            ]
          },
          "metadata": {},
          "execution_count": 9
        }
      ]
    },
    {
      "cell_type": "code",
      "source": [
        "# expected returns\n",
        "er[l]"
      ],
      "metadata": {
        "colab": {
          "base_uri": "https://localhost:8080/"
        },
        "id": "n7vRS3kBXl1B",
        "outputId": "abda50ed-a6d1-4133-dca2-a90d791279ea"
      },
      "execution_count": 10,
      "outputs": [
        {
          "output_type": "execute_result",
          "data": {
            "text/plain": [
              "Food     0.116799\n",
              "Steel    0.115809\n",
              "dtype: float64"
            ]
          },
          "metadata": {},
          "execution_count": 10
        }
      ]
    },
    {
      "cell_type": "code",
      "source": [
        "# Returns Estimation 1\n",
        "# Error maximizing nature of Markowitz(optimizers): minor estimation error can lead to massive shit in weights\n",
        "# Guessing expected returns close to er[l]\n",
        "# find the weights of the maximum Sharpe ratio portfolio for the guessed returns\n",
        "print('weights for guessed returns: ', rk.msr(0.1, np.array([.11, .12]), cov.loc[l,l]))\n",
        "print('weights for er[l]: ' ,rk.msr(0.1, er[l], cov.loc[l,l]))"
      ],
      "metadata": {
        "colab": {
          "base_uri": "https://localhost:8080/"
        },
        "id": "ZGPCGJtCWz4p",
        "outputId": "1ca88424-c91a-47ec-832f-7c8d7f10fadf"
      },
      "execution_count": 11,
      "outputs": [
        {
          "output_type": "stream",
          "name": "stdout",
          "text": [
            "weights for guessed returns:  [0.57930354 0.42069646]\n",
            "weights for er[l]:  [0.75040362 0.24959638]\n"
          ]
        }
      ]
    },
    {
      "cell_type": "code",
      "source": [
        "# Returns Estimation 2\n",
        "# Error maximizing nature of Markowitz(optimizers): minor estimation error can lead to massive shit in weights\n",
        "# Guessing expected returns close to er[l]\n",
        "# find the weights of the maximum Sharpe ratio portfolio for the guessed returns\n",
        "print('weights for guessed returns: ', rk.msr(0.1, np.array([.1, .13]), cov.loc[l,l]))\n",
        "print('weights for er[l]: ' ,rk.msr(0.1, er[l], cov.loc[l,l]))"
      ],
      "metadata": {
        "colab": {
          "base_uri": "https://localhost:8080/"
        },
        "id": "3eijFA71aowf",
        "outputId": "a9eaf0f6-e28d-4faf-9d17-077b10c21022"
      },
      "execution_count": 12,
      "outputs": [
        {
          "output_type": "stream",
          "name": "stdout",
          "text": [
            "weights for guessed returns:  [0. 1.]\n",
            "weights for er[l]:  [0.75040362 0.24959638]\n"
          ]
        }
      ]
    },
    {
      "cell_type": "code",
      "source": [
        "# Returns Estimation 3\n",
        "# Error maximizing nature of Markowitz(optimizers): minor estimation error can lead to massive shit in weights\n",
        "# Guessing expected returns close to er[l]\n",
        "# find the weights of the maximum Sharpe ratio portfolio for the guessed returns\n",
        "print('weights for guessed returns: ', rk.msr(0.1, np.array([.13, .1]), cov.loc[l,l]))\n",
        "print('weights for er[l]: ' ,rk.msr(0.1, er[l], cov.loc[l,l]))"
      ],
      "metadata": {
        "colab": {
          "base_uri": "https://localhost:8080/"
        },
        "id": "v8bdddRDaxkP",
        "outputId": "8d0ea218-8e91-47a1-eace-003b841db553"
      },
      "execution_count": 13,
      "outputs": [
        {
          "output_type": "stream",
          "name": "stdout",
          "text": [
            "weights for guessed returns:  [1. 0.]\n",
            "weights for er[l]:  [0.75040362 0.24959638]\n"
          ]
        }
      ]
    },
    {
      "cell_type": "code",
      "source": [
        "# Maximum Shapre Ratio Portfolio vs. Naive diversification portfolio(equal weights) vs.\n",
        "# General Minimum Volatility\n",
        "rk.plot_ef(20, er, cov, show_cml=True, riskfree_rate=0.1 ,show_ew=True, show_gmv=True)"
      ],
      "metadata": {
        "colab": {
          "base_uri": "https://localhost:8080/",
          "height": 466
        },
        "id": "0JTsQTUQbn_z",
        "outputId": "7a394233-a957-4c13-f259-5957eeb083cf"
      },
      "execution_count": 14,
      "outputs": [
        {
          "output_type": "execute_result",
          "data": {
            "text/plain": [
              "<Axes: xlabel='Volatility'>"
            ]
          },
          "metadata": {},
          "execution_count": 14
        },
        {
          "output_type": "display_data",
          "data": {
            "text/plain": [
              "<Figure size 640x480 with 1 Axes>"
            ],
            "image/png": "[encoded data removed]"
          },
          "metadata": {}
        }
      ]
    },
    {
      "cell_type": "markdown",
      "source": [
        "While the MSR portfolio(green) is theoretically optimal, achieving it in practice is hampered by the difficulty of accurately estimating expected returns. This uncertainty makes the GMV portfolio(darkblue) a more reliable choice for those looking to minimize volatility without having to make potentially erroneous return predictions. The EW portfolio(sandybrown) serves as a benchmark for diversification, a naive guess."
      ],
      "metadata": {
        "id": "qLLtOgiulQat"
      }
    }
  ]
}