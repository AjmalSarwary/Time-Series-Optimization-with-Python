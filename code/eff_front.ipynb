{
  "nbformat": 4,
  "nbformat_minor": 0,
  "metadata": {
    "colab": {
      "provenance": [],
      "authorship_tag": "ABX9TyPzNDMkYYc3VZZLZsgQVY24",
      "include_colab_link": true
    },
    "kernelspec": {
      "name": "python3",
      "display_name": "Python 3"
    },
    "language_info": {
      "name": "python"
    }
  },
  "cells": [
    {
      "cell_type": "markdown",
      "metadata": {
        "id": "view-in-github",
        "colab_type": "text"
      },
      "source": [
        "<a href=\"https://colab.research.google.com/github/AjmalSarwary/invest_ml/blob/master/code/eff_front.ipynb\" target=\"_parent\"><img src=\"https://colab.research.google.com/assets/colab-badge.svg\" alt=\"Open In Colab\"/></a>"
      ]
    },
    {
      "cell_type": "markdown",
      "source": [
        "**The dataset \"ind30_m_vw_rets\"\n",
        " represents monthly returns of 30 different industry portfolios fom 1926 onward.**"
      ],
      "metadata": {
        "id": "BoKr8t3Ehq4I"
      }
    },
    {
      "cell_type": "code",
      "source": [
        "!git clone https://github.com/ajmalsarwary/invest_ml.git"
      ],
      "metadata": {
        "colab": {
          "base_uri": "https://localhost:8080/"
        },
        "id": "OpkVBbDReRJW",
        "outputId": "c2a351b3-dd02-404a-de19-d8f8347fcfe7"
      },
      "execution_count": 44,
      "outputs": [
        {
          "output_type": "stream",
          "name": "stdout",
          "text": [
            "fatal: destination path 'invest_ml' already exists and is not an empty directory.\n"
          ]
        }
      ]
    },
    {
      "cell_type": "code",
      "source": [
        "%cd /content/invest_ml"
      ],
      "metadata": {
        "colab": {
          "base_uri": "https://localhost:8080/"
        },
        "id": "rxLkCbgxg0xF",
        "outputId": "6be4f633-adf3-404a-a303-e39a4d8a37b9"
      },
      "execution_count": 45,
      "outputs": [
        {
          "output_type": "stream",
          "name": "stdout",
          "text": [
            "/content/invest_ml\n"
          ]
        }
      ]
    },
    {
      "cell_type": "code",
      "source": [
        "!git pull origin master"
      ],
      "metadata": {
        "colab": {
          "base_uri": "https://localhost:8080/"
        },
        "id": "_cJL4ZDQg6Mj",
        "outputId": "a248dc7f-e706-47dc-8ca9-53cad7231566"
      },
      "execution_count": 46,
      "outputs": [
        {
          "output_type": "stream",
          "name": "stdout",
          "text": [
            "From https://github.com/ajmalsarwary/invest_ml\n",
            " * branch            master     -> FETCH_HEAD\n",
            "Already up to date.\n"
          ]
        }
      ]
    },
    {
      "cell_type": "code",
      "source": [
        "import sys\n",
        "sys.path.append('/content/invest_ml/code')"
      ],
      "metadata": {
        "id": "7VssWMn3C3tc"
      },
      "execution_count": 47,
      "outputs": []
    },
    {
      "cell_type": "code",
      "source": [
        "import invest_risk_kit as rk\n",
        "import pandas as pd"
      ],
      "metadata": {
        "id": "WqE8gIDx2r_J"
      },
      "execution_count": 48,
      "outputs": []
    },
    {
      "cell_type": "code",
      "source": [
        "file_path = '/content/invest_ml/data/ind30_m_vw_rets.csv'\n",
        "ind = pd.read_csv(file_path, header=0, index_col=0, parse_dates=True)\n",
        "ind = ind/100"
      ],
      "metadata": {
        "id": "pD-BvtEm_ObH"
      },
      "execution_count": 49,
      "outputs": []
    },
    {
      "cell_type": "code",
      "source": [
        "ind.head()"
      ],
      "metadata": {
        "colab": {
          "base_uri": "https://localhost:8080/",
          "height": 256
        },
        "id": "u112ufGrAkkT",
        "outputId": "1fc19db0-895b-4ff4-f0d7-850058b6ea23"
      },
      "execution_count": 50,
      "outputs": [
        {
          "output_type": "execute_result",
          "data": {
            "text/plain": [
              "         Food    Beer    Smoke   Games   Books   Hshld   Clths   Hlth   \\\n",
              "192607  0.0056 -0.0519  0.0129  0.0293  0.1097 -0.0048  0.0808  0.0177   \n",
              "192608  0.0259  0.2703  0.0650  0.0055  0.1001 -0.0358 -0.0251  0.0425   \n",
              "192609  0.0116  0.0402  0.0126  0.0658 -0.0099  0.0073 -0.0051  0.0069   \n",
              "192610 -0.0306 -0.0331  0.0106 -0.0476  0.0947 -0.0468  0.0012 -0.0057   \n",
              "192611  0.0635  0.0729  0.0455  0.0166 -0.0580 -0.0054  0.0187  0.0542   \n",
              "\n",
              "         Chems   Txtls  ...   Telcm   Servs   BusEq   Paper   Trans   Whlsl  \\\n",
              "192607  0.0814  0.0039  ...  0.0083  0.0922  0.0206  0.0770  0.0193 -0.2379   \n",
              "192608  0.0550  0.0814  ...  0.0217  0.0202  0.0439 -0.0238  0.0488  0.0539   \n",
              "192609  0.0533  0.0231  ...  0.0241  0.0225  0.0019 -0.0554  0.0005 -0.0787   \n",
              "192610 -0.0476  0.0100  ... -0.0011 -0.0200 -0.0109 -0.0508 -0.0264 -0.1538   \n",
              "192611  0.0520  0.0311  ...  0.0163  0.0377  0.0364  0.0384  0.0160  0.0467   \n",
              "\n",
              "         Rtail   Meals   Fin     Other  \n",
              "192607  0.0007  0.0187  0.0037  0.0520  \n",
              "192608 -0.0075 -0.0013  0.0446  0.0676  \n",
              "192609  0.0025 -0.0056 -0.0123 -0.0386  \n",
              "192610 -0.0220 -0.0411 -0.0516 -0.0849  \n",
              "192611  0.0652  0.0433  0.0224  0.0400  \n",
              "\n",
              "[5 rows x 30 columns]"
            ],
            "text/html": [
              "\n",
              "  <div id=\"df-cee65fb5-34aa-4727-abea-1bc6299156cf\" class=\"colab-df-container\">\n",
              "    <div>\n",
              "<style scoped>\n",
              "    .dataframe tbody tr th:only-of-type {\n",
              "        vertical-align: middle;\n",
              "    }\n",
              "\n",
              "    .dataframe tbody tr th {\n",
              "        vertical-align: top;\n",
              "    }\n",
              "\n",
              "    .dataframe thead th {\n",
              "        text-align: right;\n",
              "    }\n",
              "</style>\n",
              "<table border=\"1\" class=\"dataframe\">\n",
              "  <thead>\n",
              "    <tr style=\"text-align: right;\">\n",
              "      <th></th>\n",
              "      <th>Food</th>\n",
              "      <th>Beer</th>\n",
              "      <th>Smoke</th>\n",
              "      <th>Games</th>\n",
              "      <th>Books</th>\n",
              "      <th>Hshld</th>\n",
              "      <th>Clths</th>\n",
              "      <th>Hlth</th>\n",
              "      <th>Chems</th>\n",
              "      <th>Txtls</th>\n",
              "      <th>...</th>\n",
              "      <th>Telcm</th>\n",
              "      <th>Servs</th>\n",
              "      <th>BusEq</th>\n",
              "      <th>Paper</th>\n",
              "      <th>Trans</th>\n",
              "      <th>Whlsl</th>\n",
              "      <th>Rtail</th>\n",
              "      <th>Meals</th>\n",
              "      <th>Fin</th>\n",
              "      <th>Other</th>\n",
              "    </tr>\n",
              "  </thead>\n",
              "  <tbody>\n",
              "    <tr>\n",
              "      <th>192607</th>\n",
              "      <td>0.0056</td>\n",
              "      <td>-0.0519</td>\n",
              "      <td>0.0129</td>\n",
              "      <td>0.0293</td>\n",
              "      <td>0.1097</td>\n",
              "      <td>-0.0048</td>\n",
              "      <td>0.0808</td>\n",
              "      <td>0.0177</td>\n",
              "      <td>0.0814</td>\n",
              "      <td>0.0039</td>\n",
              "      <td>...</td>\n",
              "      <td>0.0083</td>\n",
              "      <td>0.0922</td>\n",
              "      <td>0.0206</td>\n",
              "      <td>0.0770</td>\n",
              "      <td>0.0193</td>\n",
              "      <td>-0.2379</td>\n",
              "      <td>0.0007</td>\n",
              "      <td>0.0187</td>\n",
              "      <td>0.0037</td>\n",
              "      <td>0.0520</td>\n",
              "    </tr>\n",
              "    <tr>\n",
              "      <th>192608</th>\n",
              "      <td>0.0259</td>\n",
              "      <td>0.2703</td>\n",
              "      <td>0.0650</td>\n",
              "      <td>0.0055</td>\n",
              "      <td>0.1001</td>\n",
              "      <td>-0.0358</td>\n",
              "      <td>-0.0251</td>\n",
              "      <td>0.0425</td>\n",
              "      <td>0.0550</td>\n",
              "      <td>0.0814</td>\n",
              "      <td>...</td>\n",
              "      <td>0.0217</td>\n",
              "      <td>0.0202</td>\n",
              "      <td>0.0439</td>\n",
              "      <td>-0.0238</td>\n",
              "      <td>0.0488</td>\n",
              "      <td>0.0539</td>\n",
              "      <td>-0.0075</td>\n",
              "      <td>-0.0013</td>\n",
              "      <td>0.0446</td>\n",
              "      <td>0.0676</td>\n",
              "    </tr>\n",
              "    <tr>\n",
              "      <th>192609</th>\n",
              "      <td>0.0116</td>\n",
              "      <td>0.0402</td>\n",
              "      <td>0.0126</td>\n",
              "      <td>0.0658</td>\n",
              "      <td>-0.0099</td>\n",
              "      <td>0.0073</td>\n",
              "      <td>-0.0051</td>\n",
              "      <td>0.0069</td>\n",
              "      <td>0.0533</td>\n",
              "      <td>0.0231</td>\n",
              "      <td>...</td>\n",
              "      <td>0.0241</td>\n",
              "      <td>0.0225</td>\n",
              "      <td>0.0019</td>\n",
              "      <td>-0.0554</td>\n",
              "      <td>0.0005</td>\n",
              "      <td>-0.0787</td>\n",
              "      <td>0.0025</td>\n",
              "      <td>-0.0056</td>\n",
              "      <td>-0.0123</td>\n",
              "      <td>-0.0386</td>\n",
              "    </tr>\n",
              "    <tr>\n",
              "      <th>192610</th>\n",
              "      <td>-0.0306</td>\n",
              "      <td>-0.0331</td>\n",
              "      <td>0.0106</td>\n",
              "      <td>-0.0476</td>\n",
              "      <td>0.0947</td>\n",
              "      <td>-0.0468</td>\n",
              "      <td>0.0012</td>\n",
              "      <td>-0.0057</td>\n",
              "      <td>-0.0476</td>\n",
              "      <td>0.0100</td>\n",
              "      <td>...</td>\n",
              "      <td>-0.0011</td>\n",
              "      <td>-0.0200</td>\n",
              "      <td>-0.0109</td>\n",
              "      <td>-0.0508</td>\n",
              "      <td>-0.0264</td>\n",
              "      <td>-0.1538</td>\n",
              "      <td>-0.0220</td>\n",
              "      <td>-0.0411</td>\n",
              "      <td>-0.0516</td>\n",
              "      <td>-0.0849</td>\n",
              "    </tr>\n",
              "    <tr>\n",
              "      <th>192611</th>\n",
              "      <td>0.0635</td>\n",
              "      <td>0.0729</td>\n",
              "      <td>0.0455</td>\n",
              "      <td>0.0166</td>\n",
              "      <td>-0.0580</td>\n",
              "      <td>-0.0054</td>\n",
              "      <td>0.0187</td>\n",
              "      <td>0.0542</td>\n",
              "      <td>0.0520</td>\n",
              "      <td>0.0311</td>\n",
              "      <td>...</td>\n",
              "      <td>0.0163</td>\n",
              "      <td>0.0377</td>\n",
              "      <td>0.0364</td>\n",
              "      <td>0.0384</td>\n",
              "      <td>0.0160</td>\n",
              "      <td>0.0467</td>\n",
              "      <td>0.0652</td>\n",
              "      <td>0.0433</td>\n",
              "      <td>0.0224</td>\n",
              "      <td>0.0400</td>\n",
              "    </tr>\n",
              "  </tbody>\n",
              "</table>\n",
              "<p>5 rows × 30 columns</p>\n",
              "</div>\n",
              "    <div class=\"colab-df-buttons\">\n",
              "\n",
              "  <div class=\"colab-df-container\">\n",
              "    <button class=\"colab-df-convert\" onclick=\"convertToInteractive('df-cee65fb5-34aa-4727-abea-1bc6299156cf')\"\n",
              "            title=\"Convert this dataframe to an interactive table.\"\n",
              "            style=\"display:none;\">\n",
              "\n",
              "  <svg xmlns=\"http://www.w3.org/2000/svg\" height=\"24px\" viewBox=\"0 -960 960 960\">\n",
              "    <path d=\"M120-120v-720h720v720H120Zm60-500h600v-160H180v160Zm220 220h160v-160H400v160Zm0 220h160v-160H400v160ZM180-400h160v-160H180v160Zm440 0h160v-160H620v160ZM180-180h160v-160H180v160Zm440 0h160v-160H620v160Z\"/>\n",
              "  </svg>\n",
              "    </button>\n",
              "\n",
              "  <style>\n",
              "    .colab-df-container {\n",
              "      display:flex;\n",
              "      gap: 12px;\n",
              "    }\n",
              "\n",
              "    .colab-df-convert {\n",
              "      background-color: #E8F0FE;\n",
              "      border: none;\n",
              "      border-radius: 50%;\n",
              "      cursor: pointer;\n",
              "      display: none;\n",
              "      fill: #1967D2;\n",
              "      height: 32px;\n",
              "      padding: 0 0 0 0;\n",
              "      width: 32px;\n",
              "    }\n",
              "\n",
              "    .colab-df-convert:hover {\n",
              "      background-color: #E2EBFA;\n",
              "      box-shadow: 0px 1px 2px rgba(60, 64, 67, 0.3), 0px 1px 3px 1px rgba(60, 64, 67, 0.15);\n",
              "      fill: #174EA6;\n",
              "    }\n",
              "\n",
              "    .colab-df-buttons div {\n",
              "      margin-bottom: 4px;\n",
              "    }\n",
              "\n",
              "    [theme=dark] .colab-df-convert {\n",
              "      background-color: #3B4455;\n",
              "      fill: #D2E3FC;\n",
              "    }\n",
              "\n",
              "    [theme=dark] .colab-df-convert:hover {\n",
              "      background-color: #434B5C;\n",
              "      box-shadow: 0px 1px 3px 1px rgba(0, 0, 0, 0.15);\n",
              "      filter: drop-shadow(0px 1px 2px rgba(0, 0, 0, 0.3));\n",
              "      fill: #FFFFFF;\n",
              "    }\n",
              "  </style>\n",
              "\n",
              "    <script>\n",
              "      const buttonEl =\n",
              "        document.querySelector('#df-cee65fb5-34aa-4727-abea-1bc6299156cf button.colab-df-convert');\n",
              "      buttonEl.style.display =\n",
              "        google.colab.kernel.accessAllowed ? 'block' : 'none';\n",
              "\n",
              "      async function convertToInteractive(key) {\n",
              "        const element = document.querySelector('#df-cee65fb5-34aa-4727-abea-1bc6299156cf');\n",
              "        const dataTable =\n",
              "          await google.colab.kernel.invokeFunction('convertToInteractive',\n",
              "                                                    [key], {});\n",
              "        if (!dataTable) return;\n",
              "\n",
              "        const docLinkHtml = 'Like what you see? Visit the ' +\n",
              "          '<a target=\"_blank\" href=https://colab.research.google.com/notebooks/data_table.ipynb>data table notebook</a>'\n",
              "          + ' to learn more about interactive tables.';\n",
              "        element.innerHTML = '';\n",
              "        dataTable['output_type'] = 'display_data';\n",
              "        await google.colab.output.renderOutput(dataTable, element);\n",
              "        const docLink = document.createElement('div');\n",
              "        docLink.innerHTML = docLinkHtml;\n",
              "        element.appendChild(docLink);\n",
              "      }\n",
              "    </script>\n",
              "  </div>\n",
              "\n",
              "\n",
              "<div id=\"df-260429f6-3f5b-4bde-a51b-4c88ab070804\">\n",
              "  <button class=\"colab-df-quickchart\" onclick=\"quickchart('df-260429f6-3f5b-4bde-a51b-4c88ab070804')\"\n",
              "            title=\"Suggest charts\"\n",
              "            style=\"display:none;\">\n",
              "\n",
              "<svg xmlns=\"http://www.w3.org/2000/svg\" height=\"24px\"viewBox=\"0 0 24 24\"\n",
              "     width=\"24px\">\n",
              "    <g>\n",
              "        <path d=\"M19 3H5c-1.1 0-2 .9-2 2v14c0 1.1.9 2 2 2h14c1.1 0 2-.9 2-2V5c0-1.1-.9-2-2-2zM9 17H7v-7h2v7zm4 0h-2V7h2v10zm4 0h-2v-4h2v4z\"/>\n",
              "    </g>\n",
              "</svg>\n",
              "  </button>\n",
              "\n",
              "<style>\n",
              "  .colab-df-quickchart {\n",
              "      --bg-color: #E8F0FE;\n",
              "      --fill-color: #1967D2;\n",
              "      --hover-bg-color: #E2EBFA;\n",
              "      --hover-fill-color: #174EA6;\n",
              "      --disabled-fill-color: #AAA;\n",
              "      --disabled-bg-color: #DDD;\n",
              "  }\n",
              "\n",
              "  [theme=dark] .colab-df-quickchart {\n",
              "      --bg-color: #3B4455;\n",
              "      --fill-color: #D2E3FC;\n",
              "      --hover-bg-color: #434B5C;\n",
              "      --hover-fill-color: #FFFFFF;\n",
              "      --disabled-bg-color: #3B4455;\n",
              "      --disabled-fill-color: #666;\n",
              "  }\n",
              "\n",
              "  .colab-df-quickchart {\n",
              "    background-color: var(--bg-color);\n",
              "    border: none;\n",
              "    border-radius: 50%;\n",
              "    cursor: pointer;\n",
              "    display: none;\n",
              "    fill: var(--fill-color);\n",
              "    height: 32px;\n",
              "    padding: 0;\n",
              "    width: 32px;\n",
              "  }\n",
              "\n",
              "  .colab-df-quickchart:hover {\n",
              "    background-color: var(--hover-bg-color);\n",
              "    box-shadow: 0 1px 2px rgba(60, 64, 67, 0.3), 0 1px 3px 1px rgba(60, 64, 67, 0.15);\n",
              "    fill: var(--button-hover-fill-color);\n",
              "  }\n",
              "\n",
              "  .colab-df-quickchart-complete:disabled,\n",
              "  .colab-df-quickchart-complete:disabled:hover {\n",
              "    background-color: var(--disabled-bg-color);\n",
              "    fill: var(--disabled-fill-color);\n",
              "    box-shadow: none;\n",
              "  }\n",
              "\n",
              "  .colab-df-spinner {\n",
              "    border: 2px solid var(--fill-color);\n",
              "    border-color: transparent;\n",
              "    border-bottom-color: var(--fill-color);\n",
              "    animation:\n",
              "      spin 1s steps(1) infinite;\n",
              "  }\n",
              "\n",
              "  @keyframes spin {\n",
              "    0% {\n",
              "      border-color: transparent;\n",
              "      border-bottom-color: var(--fill-color);\n",
              "      border-left-color: var(--fill-color);\n",
              "    }\n",
              "    20% {\n",
              "      border-color: transparent;\n",
              "      border-left-color: var(--fill-color);\n",
              "      border-top-color: var(--fill-color);\n",
              "    }\n",
              "    30% {\n",
              "      border-color: transparent;\n",
              "      border-left-color: var(--fill-color);\n",
              "      border-top-color: var(--fill-color);\n",
              "      border-right-color: var(--fill-color);\n",
              "    }\n",
              "    40% {\n",
              "      border-color: transparent;\n",
              "      border-right-color: var(--fill-color);\n",
              "      border-top-color: var(--fill-color);\n",
              "    }\n",
              "    60% {\n",
              "      border-color: transparent;\n",
              "      border-right-color: var(--fill-color);\n",
              "    }\n",
              "    80% {\n",
              "      border-color: transparent;\n",
              "      border-right-color: var(--fill-color);\n",
              "      border-bottom-color: var(--fill-color);\n",
              "    }\n",
              "    90% {\n",
              "      border-color: transparent;\n",
              "      border-bottom-color: var(--fill-color);\n",
              "    }\n",
              "  }\n",
              "</style>\n",
              "\n",
              "  <script>\n",
              "    async function quickchart(key) {\n",
              "      const quickchartButtonEl =\n",
              "        document.querySelector('#' + key + ' button');\n",
              "      quickchartButtonEl.disabled = true;  // To prevent multiple clicks.\n",
              "      quickchartButtonEl.classList.add('colab-df-spinner');\n",
              "      try {\n",
              "        const charts = await google.colab.kernel.invokeFunction(\n",
              "            'suggestCharts', [key], {});\n",
              "      } catch (error) {\n",
              "        console.error('Error during call to suggestCharts:', error);\n",
              "      }\n",
              "      quickchartButtonEl.classList.remove('colab-df-spinner');\n",
              "      quickchartButtonEl.classList.add('colab-df-quickchart-complete');\n",
              "    }\n",
              "    (() => {\n",
              "      let quickchartButtonEl =\n",
              "        document.querySelector('#df-260429f6-3f5b-4bde-a51b-4c88ab070804 button');\n",
              "      quickchartButtonEl.style.display =\n",
              "        google.colab.kernel.accessAllowed ? 'block' : 'none';\n",
              "    })();\n",
              "  </script>\n",
              "</div>\n",
              "    </div>\n",
              "  </div>\n"
            ]
          },
          "metadata": {},
          "execution_count": 50
        }
      ]
    },
    {
      "cell_type": "code",
      "source": [
        "ind.index = pd.to_datetime(ind.index, format='%Y%m').to_period('M')"
      ],
      "metadata": {
        "id": "M5qq_6aBBdTS"
      },
      "execution_count": 51,
      "outputs": []
    },
    {
      "cell_type": "code",
      "source": [
        "ind.head()"
      ],
      "metadata": {
        "colab": {
          "base_uri": "https://localhost:8080/",
          "height": 342
        },
        "id": "V4HZ1iIRB6qO",
        "outputId": "a4c7267e-9f2e-446c-b4f8-4d30b91294c4"
      },
      "execution_count": 52,
      "outputs": [
        {
          "output_type": "execute_result",
          "data": {
            "text/plain": [
              "          Food    Beer    Smoke   Games   Books   Hshld   Clths   Hlth   \\\n",
              "1926-07  0.0056 -0.0519  0.0129  0.0293  0.1097 -0.0048  0.0808  0.0177   \n",
              "1926-08  0.0259  0.2703  0.0650  0.0055  0.1001 -0.0358 -0.0251  0.0425   \n",
              "1926-09  0.0116  0.0402  0.0126  0.0658 -0.0099  0.0073 -0.0051  0.0069   \n",
              "1926-10 -0.0306 -0.0331  0.0106 -0.0476  0.0947 -0.0468  0.0012 -0.0057   \n",
              "1926-11  0.0635  0.0729  0.0455  0.0166 -0.0580 -0.0054  0.0187  0.0542   \n",
              "\n",
              "          Chems   Txtls  ...   Telcm   Servs   BusEq   Paper   Trans   Whlsl  \\\n",
              "1926-07  0.0814  0.0039  ...  0.0083  0.0922  0.0206  0.0770  0.0193 -0.2379   \n",
              "1926-08  0.0550  0.0814  ...  0.0217  0.0202  0.0439 -0.0238  0.0488  0.0539   \n",
              "1926-09  0.0533  0.0231  ...  0.0241  0.0225  0.0019 -0.0554  0.0005 -0.0787   \n",
              "1926-10 -0.0476  0.0100  ... -0.0011 -0.0200 -0.0109 -0.0508 -0.0264 -0.1538   \n",
              "1926-11  0.0520  0.0311  ...  0.0163  0.0377  0.0364  0.0384  0.0160  0.0467   \n",
              "\n",
              "          Rtail   Meals   Fin     Other  \n",
              "1926-07  0.0007  0.0187  0.0037  0.0520  \n",
              "1926-08 -0.0075 -0.0013  0.0446  0.0676  \n",
              "1926-09  0.0025 -0.0056 -0.0123 -0.0386  \n",
              "1926-10 -0.0220 -0.0411 -0.0516 -0.0849  \n",
              "1926-11  0.0652  0.0433  0.0224  0.0400  \n",
              "\n",
              "[5 rows x 30 columns]"
            ],
            "text/html": [
              "\n",
              "  <div id=\"df-f4d03779-dc93-44a9-93fa-fecc55d2ce99\" class=\"colab-df-container\">\n",
              "    <div>\n",
              "<style scoped>\n",
              "    .dataframe tbody tr th:only-of-type {\n",
              "        vertical-align: middle;\n",
              "    }\n",
              "\n",
              "    .dataframe tbody tr th {\n",
              "        vertical-align: top;\n",
              "    }\n",
              "\n",
              "    .dataframe thead th {\n",
              "        text-align: right;\n",
              "    }\n",
              "</style>\n",
              "<table border=\"1\" class=\"dataframe\">\n",
              "  <thead>\n",
              "    <tr style=\"text-align: right;\">\n",
              "      <th></th>\n",
              "      <th>Food</th>\n",
              "      <th>Beer</th>\n",
              "      <th>Smoke</th>\n",
              "      <th>Games</th>\n",
              "      <th>Books</th>\n",
              "      <th>Hshld</th>\n",
              "      <th>Clths</th>\n",
              "      <th>Hlth</th>\n",
              "      <th>Chems</th>\n",
              "      <th>Txtls</th>\n",
              "      <th>...</th>\n",
              "      <th>Telcm</th>\n",
              "      <th>Servs</th>\n",
              "      <th>BusEq</th>\n",
              "      <th>Paper</th>\n",
              "      <th>Trans</th>\n",
              "      <th>Whlsl</th>\n",
              "      <th>Rtail</th>\n",
              "      <th>Meals</th>\n",
              "      <th>Fin</th>\n",
              "      <th>Other</th>\n",
              "    </tr>\n",
              "  </thead>\n",
              "  <tbody>\n",
              "    <tr>\n",
              "      <th>1926-07</th>\n",
              "      <td>0.0056</td>\n",
              "      <td>-0.0519</td>\n",
              "      <td>0.0129</td>\n",
              "      <td>0.0293</td>\n",
              "      <td>0.1097</td>\n",
              "      <td>-0.0048</td>\n",
              "      <td>0.0808</td>\n",
              "      <td>0.0177</td>\n",
              "      <td>0.0814</td>\n",
              "      <td>0.0039</td>\n",
              "      <td>...</td>\n",
              "      <td>0.0083</td>\n",
              "      <td>0.0922</td>\n",
              "      <td>0.0206</td>\n",
              "      <td>0.0770</td>\n",
              "      <td>0.0193</td>\n",
              "      <td>-0.2379</td>\n",
              "      <td>0.0007</td>\n",
              "      <td>0.0187</td>\n",
              "      <td>0.0037</td>\n",
              "      <td>0.0520</td>\n",
              "    </tr>\n",
              "    <tr>\n",
              "      <th>1926-08</th>\n",
              "      <td>0.0259</td>\n",
              "      <td>0.2703</td>\n",
              "      <td>0.0650</td>\n",
              "      <td>0.0055</td>\n",
              "      <td>0.1001</td>\n",
              "      <td>-0.0358</td>\n",
              "      <td>-0.0251</td>\n",
              "      <td>0.0425</td>\n",
              "      <td>0.0550</td>\n",
              "      <td>0.0814</td>\n",
              "      <td>...</td>\n",
              "      <td>0.0217</td>\n",
              "      <td>0.0202</td>\n",
              "      <td>0.0439</td>\n",
              "      <td>-0.0238</td>\n",
              "      <td>0.0488</td>\n",
              "      <td>0.0539</td>\n",
              "      <td>-0.0075</td>\n",
              "      <td>-0.0013</td>\n",
              "      <td>0.0446</td>\n",
              "      <td>0.0676</td>\n",
              "    </tr>\n",
              "    <tr>\n",
              "      <th>1926-09</th>\n",
              "      <td>0.0116</td>\n",
              "      <td>0.0402</td>\n",
              "      <td>0.0126</td>\n",
              "      <td>0.0658</td>\n",
              "      <td>-0.0099</td>\n",
              "      <td>0.0073</td>\n",
              "      <td>-0.0051</td>\n",
              "      <td>0.0069</td>\n",
              "      <td>0.0533</td>\n",
              "      <td>0.0231</td>\n",
              "      <td>...</td>\n",
              "      <td>0.0241</td>\n",
              "      <td>0.0225</td>\n",
              "      <td>0.0019</td>\n",
              "      <td>-0.0554</td>\n",
              "      <td>0.0005</td>\n",
              "      <td>-0.0787</td>\n",
              "      <td>0.0025</td>\n",
              "      <td>-0.0056</td>\n",
              "      <td>-0.0123</td>\n",
              "      <td>-0.0386</td>\n",
              "    </tr>\n",
              "    <tr>\n",
              "      <th>1926-10</th>\n",
              "      <td>-0.0306</td>\n",
              "      <td>-0.0331</td>\n",
              "      <td>0.0106</td>\n",
              "      <td>-0.0476</td>\n",
              "      <td>0.0947</td>\n",
              "      <td>-0.0468</td>\n",
              "      <td>0.0012</td>\n",
              "      <td>-0.0057</td>\n",
              "      <td>-0.0476</td>\n",
              "      <td>0.0100</td>\n",
              "      <td>...</td>\n",
              "      <td>-0.0011</td>\n",
              "      <td>-0.0200</td>\n",
              "      <td>-0.0109</td>\n",
              "      <td>-0.0508</td>\n",
              "      <td>-0.0264</td>\n",
              "      <td>-0.1538</td>\n",
              "      <td>-0.0220</td>\n",
              "      <td>-0.0411</td>\n",
              "      <td>-0.0516</td>\n",
              "      <td>-0.0849</td>\n",
              "    </tr>\n",
              "    <tr>\n",
              "      <th>1926-11</th>\n",
              "      <td>0.0635</td>\n",
              "      <td>0.0729</td>\n",
              "      <td>0.0455</td>\n",
              "      <td>0.0166</td>\n",
              "      <td>-0.0580</td>\n",
              "      <td>-0.0054</td>\n",
              "      <td>0.0187</td>\n",
              "      <td>0.0542</td>\n",
              "      <td>0.0520</td>\n",
              "      <td>0.0311</td>\n",
              "      <td>...</td>\n",
              "      <td>0.0163</td>\n",
              "      <td>0.0377</td>\n",
              "      <td>0.0364</td>\n",
              "      <td>0.0384</td>\n",
              "      <td>0.0160</td>\n",
              "      <td>0.0467</td>\n",
              "      <td>0.0652</td>\n",
              "      <td>0.0433</td>\n",
              "      <td>0.0224</td>\n",
              "      <td>0.0400</td>\n",
              "    </tr>\n",
              "  </tbody>\n",
              "</table>\n",
              "<p>5 rows × 30 columns</p>\n",
              "</div>\n",
              "    <div class=\"colab-df-buttons\">\n",
              "\n",
              "  <div class=\"colab-df-container\">\n",
              "    <button class=\"colab-df-convert\" onclick=\"convertToInteractive('df-f4d03779-dc93-44a9-93fa-fecc55d2ce99')\"\n",
              "            title=\"Convert this dataframe to an interactive table.\"\n",
              "            style=\"display:none;\">\n",
              "\n",
              "  <svg xmlns=\"http://www.w3.org/2000/svg\" height=\"24px\" viewBox=\"0 -960 960 960\">\n",
              "    <path d=\"M120-120v-720h720v720H120Zm60-500h600v-160H180v160Zm220 220h160v-160H400v160Zm0 220h160v-160H400v160ZM180-400h160v-160H180v160Zm440 0h160v-160H620v160ZM180-180h160v-160H180v160Zm440 0h160v-160H620v160Z\"/>\n",
              "  </svg>\n",
              "    </button>\n",
              "\n",
              "  <style>\n",
              "    .colab-df-container {\n",
              "      display:flex;\n",
              "      gap: 12px;\n",
              "    }\n",
              "\n",
              "    .colab-df-convert {\n",
              "      background-color: #E8F0FE;\n",
              "      border: none;\n",
              "      border-radius: 50%;\n",
              "      cursor: pointer;\n",
              "      display: none;\n",
              "      fill: #1967D2;\n",
              "      height: 32px;\n",
              "      padding: 0 0 0 0;\n",
              "      width: 32px;\n",
              "    }\n",
              "\n",
              "    .colab-df-convert:hover {\n",
              "      background-color: #E2EBFA;\n",
              "      box-shadow: 0px 1px 2px rgba(60, 64, 67, 0.3), 0px 1px 3px 1px rgba(60, 64, 67, 0.15);\n",
              "      fill: #174EA6;\n",
              "    }\n",
              "\n",
              "    .colab-df-buttons div {\n",
              "      margin-bottom: 4px;\n",
              "    }\n",
              "\n",
              "    [theme=dark] .colab-df-convert {\n",
              "      background-color: #3B4455;\n",
              "      fill: #D2E3FC;\n",
              "    }\n",
              "\n",
              "    [theme=dark] .colab-df-convert:hover {\n",
              "      background-color: #434B5C;\n",
              "      box-shadow: 0px 1px 3px 1px rgba(0, 0, 0, 0.15);\n",
              "      filter: drop-shadow(0px 1px 2px rgba(0, 0, 0, 0.3));\n",
              "      fill: #FFFFFF;\n",
              "    }\n",
              "  </style>\n",
              "\n",
              "    <script>\n",
              "      const buttonEl =\n",
              "        document.querySelector('#df-f4d03779-dc93-44a9-93fa-fecc55d2ce99 button.colab-df-convert');\n",
              "      buttonEl.style.display =\n",
              "        google.colab.kernel.accessAllowed ? 'block' : 'none';\n",
              "\n",
              "      async function convertToInteractive(key) {\n",
              "        const element = document.querySelector('#df-f4d03779-dc93-44a9-93fa-fecc55d2ce99');\n",
              "        const dataTable =\n",
              "          await google.colab.kernel.invokeFunction('convertToInteractive',\n",
              "                                                    [key], {});\n",
              "        if (!dataTable) return;\n",
              "\n",
              "        const docLinkHtml = 'Like what you see? Visit the ' +\n",
              "          '<a target=\"_blank\" href=https://colab.research.google.com/notebooks/data_table.ipynb>data table notebook</a>'\n",
              "          + ' to learn more about interactive tables.';\n",
              "        element.innerHTML = '';\n",
              "        dataTable['output_type'] = 'display_data';\n",
              "        await google.colab.output.renderOutput(dataTable, element);\n",
              "        const docLink = document.createElement('div');\n",
              "        docLink.innerHTML = docLinkHtml;\n",
              "        element.appendChild(docLink);\n",
              "      }\n",
              "    </script>\n",
              "  </div>\n",
              "\n",
              "\n",
              "<div id=\"df-14ad0710-4d8d-468c-9814-b2c37dbc702c\">\n",
              "  <button class=\"colab-df-quickchart\" onclick=\"quickchart('df-14ad0710-4d8d-468c-9814-b2c37dbc702c')\"\n",
              "            title=\"Suggest charts\"\n",
              "            style=\"display:none;\">\n",
              "\n",
              "<svg xmlns=\"http://www.w3.org/2000/svg\" height=\"24px\"viewBox=\"0 0 24 24\"\n",
              "     width=\"24px\">\n",
              "    <g>\n",
              "        <path d=\"M19 3H5c-1.1 0-2 .9-2 2v14c0 1.1.9 2 2 2h14c1.1 0 2-.9 2-2V5c0-1.1-.9-2-2-2zM9 17H7v-7h2v7zm4 0h-2V7h2v10zm4 0h-2v-4h2v4z\"/>\n",
              "    </g>\n",
              "</svg>\n",
              "  </button>\n",
              "\n",
              "<style>\n",
              "  .colab-df-quickchart {\n",
              "      --bg-color: #E8F0FE;\n",
              "      --fill-color: #1967D2;\n",
              "      --hover-bg-color: #E2EBFA;\n",
              "      --hover-fill-color: #174EA6;\n",
              "      --disabled-fill-color: #AAA;\n",
              "      --disabled-bg-color: #DDD;\n",
              "  }\n",
              "\n",
              "  [theme=dark] .colab-df-quickchart {\n",
              "      --bg-color: #3B4455;\n",
              "      --fill-color: #D2E3FC;\n",
              "      --hover-bg-color: #434B5C;\n",
              "      --hover-fill-color: #FFFFFF;\n",
              "      --disabled-bg-color: #3B4455;\n",
              "      --disabled-fill-color: #666;\n",
              "  }\n",
              "\n",
              "  .colab-df-quickchart {\n",
              "    background-color: var(--bg-color);\n",
              "    border: none;\n",
              "    border-radius: 50%;\n",
              "    cursor: pointer;\n",
              "    display: none;\n",
              "    fill: var(--fill-color);\n",
              "    height: 32px;\n",
              "    padding: 0;\n",
              "    width: 32px;\n",
              "  }\n",
              "\n",
              "  .colab-df-quickchart:hover {\n",
              "    background-color: var(--hover-bg-color);\n",
              "    box-shadow: 0 1px 2px rgba(60, 64, 67, 0.3), 0 1px 3px 1px rgba(60, 64, 67, 0.15);\n",
              "    fill: var(--button-hover-fill-color);\n",
              "  }\n",
              "\n",
              "  .colab-df-quickchart-complete:disabled,\n",
              "  .colab-df-quickchart-complete:disabled:hover {\n",
              "    background-color: var(--disabled-bg-color);\n",
              "    fill: var(--disabled-fill-color);\n",
              "    box-shadow: none;\n",
              "  }\n",
              "\n",
              "  .colab-df-spinner {\n",
              "    border: 2px solid var(--fill-color);\n",
              "    border-color: transparent;\n",
              "    border-bottom-color: var(--fill-color);\n",
              "    animation:\n",
              "      spin 1s steps(1) infinite;\n",
              "  }\n",
              "\n",
              "  @keyframes spin {\n",
              "    0% {\n",
              "      border-color: transparent;\n",
              "      border-bottom-color: var(--fill-color);\n",
              "      border-left-color: var(--fill-color);\n",
              "    }\n",
              "    20% {\n",
              "      border-color: transparent;\n",
              "      border-left-color: var(--fill-color);\n",
              "      border-top-color: var(--fill-color);\n",
              "    }\n",
              "    30% {\n",
              "      border-color: transparent;\n",
              "      border-left-color: var(--fill-color);\n",
              "      border-top-color: var(--fill-color);\n",
              "      border-right-color: var(--fill-color);\n",
              "    }\n",
              "    40% {\n",
              "      border-color: transparent;\n",
              "      border-right-color: var(--fill-color);\n",
              "      border-top-color: var(--fill-color);\n",
              "    }\n",
              "    60% {\n",
              "      border-color: transparent;\n",
              "      border-right-color: var(--fill-color);\n",
              "    }\n",
              "    80% {\n",
              "      border-color: transparent;\n",
              "      border-right-color: var(--fill-color);\n",
              "      border-bottom-color: var(--fill-color);\n",
              "    }\n",
              "    90% {\n",
              "      border-color: transparent;\n",
              "      border-bottom-color: var(--fill-color);\n",
              "    }\n",
              "  }\n",
              "</style>\n",
              "\n",
              "  <script>\n",
              "    async function quickchart(key) {\n",
              "      const quickchartButtonEl =\n",
              "        document.querySelector('#' + key + ' button');\n",
              "      quickchartButtonEl.disabled = true;  // To prevent multiple clicks.\n",
              "      quickchartButtonEl.classList.add('colab-df-spinner');\n",
              "      try {\n",
              "        const charts = await google.colab.kernel.invokeFunction(\n",
              "            'suggestCharts', [key], {});\n",
              "      } catch (error) {\n",
              "        console.error('Error during call to suggestCharts:', error);\n",
              "      }\n",
              "      quickchartButtonEl.classList.remove('colab-df-spinner');\n",
              "      quickchartButtonEl.classList.add('colab-df-quickchart-complete');\n",
              "    }\n",
              "    (() => {\n",
              "      let quickchartButtonEl =\n",
              "        document.querySelector('#df-14ad0710-4d8d-468c-9814-b2c37dbc702c button');\n",
              "      quickchartButtonEl.style.display =\n",
              "        google.colab.kernel.accessAllowed ? 'block' : 'none';\n",
              "    })();\n",
              "  </script>\n",
              "</div>\n",
              "    </div>\n",
              "  </div>\n"
            ]
          },
          "metadata": {},
          "execution_count": 52
        }
      ]
    },
    {
      "cell_type": "code",
      "source": [
        "ind.columns"
      ],
      "metadata": {
        "colab": {
          "base_uri": "https://localhost:8080/"
        },
        "id": "3PquFpbhCW6z",
        "outputId": "5997af1b-5407-4aae-84e1-78ac12b0b14d"
      },
      "execution_count": 53,
      "outputs": [
        {
          "output_type": "execute_result",
          "data": {
            "text/plain": [
              "Index(['Food ', 'Beer ', 'Smoke', 'Games', 'Books', 'Hshld', 'Clths', 'Hlth ',\n",
              "       'Chems', 'Txtls', 'Cnstr', 'Steel', 'FabPr', 'ElcEq', 'Autos', 'Carry',\n",
              "       'Mines', 'Coal ', 'Oil  ', 'Util ', 'Telcm', 'Servs', 'BusEq', 'Paper',\n",
              "       'Trans', 'Whlsl', 'Rtail', 'Meals', 'Fin  ', 'Other'],\n",
              "      dtype='object')"
            ]
          },
          "metadata": {},
          "execution_count": 53
        }
      ]
    },
    {
      "cell_type": "code",
      "source": [
        "ind.columns = ind.columns.str.strip()"
      ],
      "metadata": {
        "id": "x7XFiXnDCap8"
      },
      "execution_count": 54,
      "outputs": []
    },
    {
      "cell_type": "code",
      "source": [
        "rk.drawdown(ind[\"Food\"])[\"Drawdown\"].plot.line(figsize=(12,6))"
      ],
      "metadata": {
        "colab": {
          "base_uri": "https://localhost:8080/",
          "height": 458
        },
        "id": "9Ykg674Lh-Oh",
        "outputId": "5c3f5491-611d-48d9-e3cb-14edc3354a79"
      },
      "execution_count": 55,
      "outputs": [
        {
          "output_type": "execute_result",
          "data": {
            "text/plain": [
              "<Axes: >"
            ]
          },
          "metadata": {},
          "execution_count": 55
        },
        {
          "output_type": "display_data",
          "data": {
            "text/plain": [
              "<Figure size 1200x600 with 1 Axes>"
            ],
            "image/png": "[encoded data removed]"
          },
          "metadata": {}
        }
      ]
    },
    {
      "cell_type": "code",
      "source": [
        "cols_of_interest=[\"Food\", \"Smoke\", \"Coal\", \"Beer\", \"Fin\"]\n",
        "rk.var_gaussian(ind[cols_of_interest], modified=True)"
      ],
      "metadata": {
        "colab": {
          "base_uri": "https://localhost:8080/"
        },
        "id": "MrwX3pe_jVLL",
        "outputId": "1cb31e67-6a91-41d7-f634-65f6353c3753"
      },
      "execution_count": 56,
      "outputs": [
        {
          "output_type": "execute_result",
          "data": {
            "text/plain": [
              "Food     0.061207\n",
              "Smoke    0.080292\n",
              "Coal     0.047359\n",
              "Beer     0.033881\n",
              "Fin      0.075199\n",
              "dtype: float64"
            ]
          },
          "metadata": {},
          "execution_count": 56
        }
      ]
    },
    {
      "cell_type": "code",
      "source": [
        "# top 5 portfolios with highest Corinish-Fisher VaR\n",
        "rk.var_gaussian(ind, modified=True).sort_values().tail()"
      ],
      "metadata": {
        "colab": {
          "base_uri": "https://localhost:8080/"
        },
        "id": "WzjwvnfZoi7p",
        "outputId": "8da4a1d5-35b2-4621-9d35-db0c2688488d"
      },
      "execution_count": 57,
      "outputs": [
        {
          "output_type": "execute_result",
          "data": {
            "text/plain": [
              "Carry    0.094527\n",
              "Meals    0.098403\n",
              "BusEq    0.099377\n",
              "Games    0.100701\n",
              "Mines    0.102782\n",
              "dtype: float64"
            ]
          },
          "metadata": {},
          "execution_count": 57
        }
      ]
    },
    {
      "cell_type": "code",
      "source": [
        "# top 5 portfolios with lowest Cornish-Fisher VaR\n",
        "rk.var_gaussian(ind, modified=True).sort_values().head()"
      ],
      "metadata": {
        "colab": {
          "base_uri": "https://localhost:8080/"
        },
        "id": "XpFd1_dApNk_",
        "outputId": "cc8784e8-4833-4054-d606-c21df735d269"
      },
      "execution_count": 58,
      "outputs": [
        {
          "output_type": "execute_result",
          "data": {
            "text/plain": [
              "Beer     0.033881\n",
              "Coal     0.047359\n",
              "Food     0.061207\n",
              "Telcm    0.064719\n",
              "Hshld    0.064886\n",
              "dtype: float64"
            ]
          },
          "metadata": {},
          "execution_count": 58
        }
      ]
    },
    {
      "cell_type": "code",
      "source": [
        "# Industry Cornish-Fisher VaR 1926-2018\n",
        "rk.var_gaussian(ind, modified=True).sort_values().plot.bar(title=\"Industry Cornish-Fisher VaR 1926-2018\")"
      ],
      "metadata": {
        "colab": {
          "base_uri": "https://localhost:8080/",
          "height": 504
        },
        "id": "n7ZaKPPPpnnB",
        "outputId": "f7bfaba5-c756-4c54-d8d5-e35ea86846c2"
      },
      "execution_count": 59,
      "outputs": [
        {
          "output_type": "execute_result",
          "data": {
            "text/plain": [
              "<Axes: title={'center': 'Industry Cornish-Fisher VaR 1926-2018'}>"
            ]
          },
          "metadata": {},
          "execution_count": 59
        },
        {
          "output_type": "display_data",
          "data": {
            "text/plain": [
              "<Figure size 640x480 with 1 Axes>"
            ],
            "image/png": "[encoded data removed]"
          },
          "metadata": {}
        }
      ]
    },
    {
      "cell_type": "code",
      "source": [
        "# Industry Sharpe Ratios from 2000-2018\n",
        "rk.sharpe_ratio(ind[\"2000\":], 0.03,12).sort_values().plot.bar(title=\"Industry Sharpe Ratios from 2000-2018\", figsize=(12,5), color=\"lightgreen\")"
      ],
      "metadata": {
        "colab": {
          "base_uri": "https://localhost:8080/",
          "height": 539
        },
        "id": "MkFhkQ57tKNQ",
        "outputId": "b1e1ab9c-7874-4e3e-fe3a-78846f5c5782"
      },
      "execution_count": 60,
      "outputs": [
        {
          "output_type": "execute_result",
          "data": {
            "text/plain": [
              "<Axes: title={'center': 'Industry Sharpe Ratios from 2000-2018'}>"
            ]
          },
          "metadata": {},
          "execution_count": 60
        },
        {
          "output_type": "display_data",
          "data": {
            "text/plain": [
              "<Figure size 1200x500 with 1 Axes>"
            ],
            "image/png": "[encoded data removed]"
          },
          "metadata": {}
        }
      ]
    },
    {
      "cell_type": "markdown",
      "source": [
        "."
      ],
      "metadata": {
        "id": "50Y5JQJFxeGZ"
      }
    },
    {
      "cell_type": "markdown",
      "source": [
        "."
      ],
      "metadata": {
        "id": "y8Dvbq7xxiO-"
      }
    },
    {
      "cell_type": "markdown",
      "source": [
        "$$ \\text{Annualized Return} = \\left( \\prod_{i=1}^{n} (1 + r_i) \\right)^{\\frac{p}{n}} - 1 $$\n",
        "  \n",
        "\n",
        "*   p is periods_per_year (months=12, weeks=54, days=365)\n",
        "*   n is the number of periods in the dataset 'ind.shape[0]=1110'\n",
        "*   subtraction of 1 adjusts the result to reflect the rate of return\n",
        "\n",
        "$$ \\sigma_{\\text{annualized}, i} = \\sigma_{\\text{periodic}, i} \\times \\sqrt{p} $$\n",
        "\n",
        "\n",
        "\n",
        "\n",
        "\n",
        "\n",
        "\n",
        "\n",
        "\n",
        "\n",
        "\n"
      ],
      "metadata": {
        "id": "EhutsVShwb1w"
      }
    },
    {
      "cell_type": "code",
      "source": [
        "# expected retuns\n",
        "er = rk.annualize_rets(ind[\"1996\":\"2000\"], 12)\n",
        "er.sort_values().plot.bar(color=\"burlywood\")"
      ],
      "metadata": {
        "colab": {
          "base_uri": "https://localhost:8080/",
          "height": 481
        },
        "id": "kXxKJilAuGnb",
        "outputId": "b1d06b0c-d726-4d76-c6e2-8d33209bc337"
      },
      "execution_count": 61,
      "outputs": [
        {
          "output_type": "execute_result",
          "data": {
            "text/plain": [
              "<Axes: >"
            ]
          },
          "metadata": {},
          "execution_count": 61
        },
        {
          "output_type": "display_data",
          "data": {
            "text/plain": [
              "<Figure size 640x480 with 1 Axes>"
            ],
            "image/png": "[encoded data removed]"
          },
          "metadata": {}
        }
      ]
    },
    {
      "cell_type": "code",
      "source": [
        "# expected returns of the industry portfolios\n",
        "er = rk.annualize_rets(ind[\"1996\":\"2000\"], 12)"
      ],
      "metadata": {
        "id": "eKQwxe9uKOaR"
      },
      "execution_count": 62,
      "outputs": []
    },
    {
      "cell_type": "code",
      "source": [
        "# covariance among industry portfolios\n",
        "cov = ind[\"1996\":\"2000\"].cov()"
      ],
      "metadata": {
        "id": "pf3OvpKKydHN"
      },
      "execution_count": 63,
      "outputs": []
    },
    {
      "cell_type": "code",
      "source": [
        "# draw a subset of industry portfolios\n",
        "sub =[\"Beer\",\"Food\", \"Smoke\", \"Coal\"]\n",
        "# expected retrun for industry portfolios\n",
        "er[sub]"
      ],
      "metadata": {
        "colab": {
          "base_uri": "https://localhost:8080/"
        },
        "id": "SsMo9CX7D6MY",
        "outputId": "f9119b29-5c52-44cc-f0ac-f706dd0ff3d6"
      },
      "execution_count": 64,
      "outputs": [
        {
          "output_type": "execute_result",
          "data": {
            "text/plain": [
              "Beer     0.141126\n",
              "Food     0.116799\n",
              "Smoke    0.107830\n",
              "Coal     0.414689\n",
              "dtype: float64"
            ]
          },
          "metadata": {},
          "execution_count": 64
        }
      ]
    },
    {
      "cell_type": "code",
      "source": [
        "# covariance among the subset of the industry portfolios\n",
        "cov.loc[sub, sub]"
      ],
      "metadata": {
        "colab": {
          "base_uri": "https://localhost:8080/",
          "height": 175
        },
        "id": "4IOjdv8QEkAV",
        "outputId": "ca63756c-6c34-4935-b7de-e0bfe3ae85c2"
      },
      "execution_count": 65,
      "outputs": [
        {
          "output_type": "execute_result",
          "data": {
            "text/plain": [
              "           Beer      Food     Smoke      Coal\n",
              "Beer   0.005264  0.002379  0.001359  0.001728\n",
              "Food   0.002379  0.002609  0.002061  0.000027\n",
              "Smoke  0.001359  0.002061  0.008349 -0.000733\n",
              "Coal   0.001728  0.000027 -0.000733  0.018641"
            ],
            "text/html": [
              "\n",
              "  <div id=\"df-119e8274-fdfe-494c-95cd-bcfb68392bbc\" class=\"colab-df-container\">\n",
              "    <div>\n",
              "<style scoped>\n",
              "    .dataframe tbody tr th:only-of-type {\n",
              "        vertical-align: middle;\n",
              "    }\n",
              "\n",
              "    .dataframe tbody tr th {\n",
              "        vertical-align: top;\n",
              "    }\n",
              "\n",
              "    .dataframe thead th {\n",
              "        text-align: right;\n",
              "    }\n",
              "</style>\n",
              "<table border=\"1\" class=\"dataframe\">\n",
              "  <thead>\n",
              "    <tr style=\"text-align: right;\">\n",
              "      <th></th>\n",
              "      <th>Beer</th>\n",
              "      <th>Food</th>\n",
              "      <th>Smoke</th>\n",
              "      <th>Coal</th>\n",
              "    </tr>\n",
              "  </thead>\n",
              "  <tbody>\n",
              "    <tr>\n",
              "      <th>Beer</th>\n",
              "      <td>0.005264</td>\n",
              "      <td>0.002379</td>\n",
              "      <td>0.001359</td>\n",
              "      <td>0.001728</td>\n",
              "    </tr>\n",
              "    <tr>\n",
              "      <th>Food</th>\n",
              "      <td>0.002379</td>\n",
              "      <td>0.002609</td>\n",
              "      <td>0.002061</td>\n",
              "      <td>0.000027</td>\n",
              "    </tr>\n",
              "    <tr>\n",
              "      <th>Smoke</th>\n",
              "      <td>0.001359</td>\n",
              "      <td>0.002061</td>\n",
              "      <td>0.008349</td>\n",
              "      <td>-0.000733</td>\n",
              "    </tr>\n",
              "    <tr>\n",
              "      <th>Coal</th>\n",
              "      <td>0.001728</td>\n",
              "      <td>0.000027</td>\n",
              "      <td>-0.000733</td>\n",
              "      <td>0.018641</td>\n",
              "    </tr>\n",
              "  </tbody>\n",
              "</table>\n",
              "</div>\n",
              "    <div class=\"colab-df-buttons\">\n",
              "\n",
              "  <div class=\"colab-df-container\">\n",
              "    <button class=\"colab-df-convert\" onclick=\"convertToInteractive('df-119e8274-fdfe-494c-95cd-bcfb68392bbc')\"\n",
              "            title=\"Convert this dataframe to an interactive table.\"\n",
              "            style=\"display:none;\">\n",
              "\n",
              "  <svg xmlns=\"http://www.w3.org/2000/svg\" height=\"24px\" viewBox=\"0 -960 960 960\">\n",
              "    <path d=\"M120-120v-720h720v720H120Zm60-500h600v-160H180v160Zm220 220h160v-160H400v160Zm0 220h160v-160H400v160ZM180-400h160v-160H180v160Zm440 0h160v-160H620v160ZM180-180h160v-160H180v160Zm440 0h160v-160H620v160Z\"/>\n",
              "  </svg>\n",
              "    </button>\n",
              "\n",
              "  <style>\n",
              "    .colab-df-container {\n",
              "      display:flex;\n",
              "      gap: 12px;\n",
              "    }\n",
              "\n",
              "    .colab-df-convert {\n",
              "      background-color: #E8F0FE;\n",
              "      border: none;\n",
              "      border-radius: 50%;\n",
              "      cursor: pointer;\n",
              "      display: none;\n",
              "      fill: #1967D2;\n",
              "      height: 32px;\n",
              "      padding: 0 0 0 0;\n",
              "      width: 32px;\n",
              "    }\n",
              "\n",
              "    .colab-df-convert:hover {\n",
              "      background-color: #E2EBFA;\n",
              "      box-shadow: 0px 1px 2px rgba(60, 64, 67, 0.3), 0px 1px 3px 1px rgba(60, 64, 67, 0.15);\n",
              "      fill: #174EA6;\n",
              "    }\n",
              "\n",
              "    .colab-df-buttons div {\n",
              "      margin-bottom: 4px;\n",
              "    }\n",
              "\n",
              "    [theme=dark] .colab-df-convert {\n",
              "      background-color: #3B4455;\n",
              "      fill: #D2E3FC;\n",
              "    }\n",
              "\n",
              "    [theme=dark] .colab-df-convert:hover {\n",
              "      background-color: #434B5C;\n",
              "      box-shadow: 0px 1px 3px 1px rgba(0, 0, 0, 0.15);\n",
              "      filter: drop-shadow(0px 1px 2px rgba(0, 0, 0, 0.3));\n",
              "      fill: #FFFFFF;\n",
              "    }\n",
              "  </style>\n",
              "\n",
              "    <script>\n",
              "      const buttonEl =\n",
              "        document.querySelector('#df-119e8274-fdfe-494c-95cd-bcfb68392bbc button.colab-df-convert');\n",
              "      buttonEl.style.display =\n",
              "        google.colab.kernel.accessAllowed ? 'block' : 'none';\n",
              "\n",
              "      async function convertToInteractive(key) {\n",
              "        const element = document.querySelector('#df-119e8274-fdfe-494c-95cd-bcfb68392bbc');\n",
              "        const dataTable =\n",
              "          await google.colab.kernel.invokeFunction('convertToInteractive',\n",
              "                                                    [key], {});\n",
              "        if (!dataTable) return;\n",
              "\n",
              "        const docLinkHtml = 'Like what you see? Visit the ' +\n",
              "          '<a target=\"_blank\" href=https://colab.research.google.com/notebooks/data_table.ipynb>data table notebook</a>'\n",
              "          + ' to learn more about interactive tables.';\n",
              "        element.innerHTML = '';\n",
              "        dataTable['output_type'] = 'display_data';\n",
              "        await google.colab.output.renderOutput(dataTable, element);\n",
              "        const docLink = document.createElement('div');\n",
              "        docLink.innerHTML = docLinkHtml;\n",
              "        element.appendChild(docLink);\n",
              "      }\n",
              "    </script>\n",
              "  </div>\n",
              "\n",
              "\n",
              "<div id=\"df-2bc9a25b-7797-4b72-b398-5f55bbe6617f\">\n",
              "  <button class=\"colab-df-quickchart\" onclick=\"quickchart('df-2bc9a25b-7797-4b72-b398-5f55bbe6617f')\"\n",
              "            title=\"Suggest charts\"\n",
              "            style=\"display:none;\">\n",
              "\n",
              "<svg xmlns=\"http://www.w3.org/2000/svg\" height=\"24px\"viewBox=\"0 0 24 24\"\n",
              "     width=\"24px\">\n",
              "    <g>\n",
              "        <path d=\"M19 3H5c-1.1 0-2 .9-2 2v14c0 1.1.9 2 2 2h14c1.1 0 2-.9 2-2V5c0-1.1-.9-2-2-2zM9 17H7v-7h2v7zm4 0h-2V7h2v10zm4 0h-2v-4h2v4z\"/>\n",
              "    </g>\n",
              "</svg>\n",
              "  </button>\n",
              "\n",
              "<style>\n",
              "  .colab-df-quickchart {\n",
              "      --bg-color: #E8F0FE;\n",
              "      --fill-color: #1967D2;\n",
              "      --hover-bg-color: #E2EBFA;\n",
              "      --hover-fill-color: #174EA6;\n",
              "      --disabled-fill-color: #AAA;\n",
              "      --disabled-bg-color: #DDD;\n",
              "  }\n",
              "\n",
              "  [theme=dark] .colab-df-quickchart {\n",
              "      --bg-color: #3B4455;\n",
              "      --fill-color: #D2E3FC;\n",
              "      --hover-bg-color: #434B5C;\n",
              "      --hover-fill-color: #FFFFFF;\n",
              "      --disabled-bg-color: #3B4455;\n",
              "      --disabled-fill-color: #666;\n",
              "  }\n",
              "\n",
              "  .colab-df-quickchart {\n",
              "    background-color: var(--bg-color);\n",
              "    border: none;\n",
              "    border-radius: 50%;\n",
              "    cursor: pointer;\n",
              "    display: none;\n",
              "    fill: var(--fill-color);\n",
              "    height: 32px;\n",
              "    padding: 0;\n",
              "    width: 32px;\n",
              "  }\n",
              "\n",
              "  .colab-df-quickchart:hover {\n",
              "    background-color: var(--hover-bg-color);\n",
              "    box-shadow: 0 1px 2px rgba(60, 64, 67, 0.3), 0 1px 3px 1px rgba(60, 64, 67, 0.15);\n",
              "    fill: var(--button-hover-fill-color);\n",
              "  }\n",
              "\n",
              "  .colab-df-quickchart-complete:disabled,\n",
              "  .colab-df-quickchart-complete:disabled:hover {\n",
              "    background-color: var(--disabled-bg-color);\n",
              "    fill: var(--disabled-fill-color);\n",
              "    box-shadow: none;\n",
              "  }\n",
              "\n",
              "  .colab-df-spinner {\n",
              "    border: 2px solid var(--fill-color);\n",
              "    border-color: transparent;\n",
              "    border-bottom-color: var(--fill-color);\n",
              "    animation:\n",
              "      spin 1s steps(1) infinite;\n",
              "  }\n",
              "\n",
              "  @keyframes spin {\n",
              "    0% {\n",
              "      border-color: transparent;\n",
              "      border-bottom-color: var(--fill-color);\n",
              "      border-left-color: var(--fill-color);\n",
              "    }\n",
              "    20% {\n",
              "      border-color: transparent;\n",
              "      border-left-color: var(--fill-color);\n",
              "      border-top-color: var(--fill-color);\n",
              "    }\n",
              "    30% {\n",
              "      border-color: transparent;\n",
              "      border-left-color: var(--fill-color);\n",
              "      border-top-color: var(--fill-color);\n",
              "      border-right-color: var(--fill-color);\n",
              "    }\n",
              "    40% {\n",
              "      border-color: transparent;\n",
              "      border-right-color: var(--fill-color);\n",
              "      border-top-color: var(--fill-color);\n",
              "    }\n",
              "    60% {\n",
              "      border-color: transparent;\n",
              "      border-right-color: var(--fill-color);\n",
              "    }\n",
              "    80% {\n",
              "      border-color: transparent;\n",
              "      border-right-color: var(--fill-color);\n",
              "      border-bottom-color: var(--fill-color);\n",
              "    }\n",
              "    90% {\n",
              "      border-color: transparent;\n",
              "      border-bottom-color: var(--fill-color);\n",
              "    }\n",
              "  }\n",
              "</style>\n",
              "\n",
              "  <script>\n",
              "    async function quickchart(key) {\n",
              "      const quickchartButtonEl =\n",
              "        document.querySelector('#' + key + ' button');\n",
              "      quickchartButtonEl.disabled = true;  // To prevent multiple clicks.\n",
              "      quickchartButtonEl.classList.add('colab-df-spinner');\n",
              "      try {\n",
              "        const charts = await google.colab.kernel.invokeFunction(\n",
              "            'suggestCharts', [key], {});\n",
              "      } catch (error) {\n",
              "        console.error('Error during call to suggestCharts:', error);\n",
              "      }\n",
              "      quickchartButtonEl.classList.remove('colab-df-spinner');\n",
              "      quickchartButtonEl.classList.add('colab-df-quickchart-complete');\n",
              "    }\n",
              "    (() => {\n",
              "      let quickchartButtonEl =\n",
              "        document.querySelector('#df-2bc9a25b-7797-4b72-b398-5f55bbe6617f button');\n",
              "      quickchartButtonEl.style.display =\n",
              "        google.colab.kernel.accessAllowed ? 'block' : 'none';\n",
              "    })();\n",
              "  </script>\n",
              "</div>\n",
              "    </div>\n",
              "  </div>\n"
            ]
          },
          "metadata": {},
          "execution_count": 65
        }
      ]
    },
    {
      "cell_type": "code",
      "source": [
        "import numpy as np\n",
        "\n",
        "# weights for sharing the invested amount between the industry portfolios from the subset\n",
        "weights = np.repeat(1/4,4)\n",
        "weights"
      ],
      "metadata": {
        "colab": {
          "base_uri": "https://localhost:8080/"
        },
        "id": "1gF1KEGtEshl",
        "outputId": "ac3d313b-a3b4-4be4-8d67-682d296c1e85"
      },
      "execution_count": 66,
      "outputs": [
        {
          "output_type": "execute_result",
          "data": {
            "text/plain": [
              "array([0.25, 0.25, 0.25, 0.25])"
            ]
          },
          "metadata": {},
          "execution_count": 66
        }
      ]
    },
    {
      "cell_type": "markdown",
      "source": [
        "To create the **efficient frontier** expected retruns and the covariance matrix are needed."
      ],
      "metadata": {
        "id": "Oy9F4CmUxKZY"
      }
    },
    {
      "cell_type": "markdown",
      "source": [
        "\n",
        ".\n",
        "\n",
        "$$ E(R_p) = \\mathbf{w}^T \\mathbf{r} $$\n",
        "\n",
        "\n"
      ],
      "metadata": {
        "id": "7fNULt6MGNEc"
      }
    },
    {
      "cell_type": "code",
      "source": [
        "# expected return for the weighted investment in the subset of industry portfolios\n",
        "rk.portfolio_return(weights, er[sub])"
      ],
      "metadata": {
        "colab": {
          "base_uri": "https://localhost:8080/"
        },
        "id": "_Jw8JXQdFN1K",
        "outputId": "aeb1f535-2301-470c-c87d-93fa8273b9b8"
      },
      "execution_count": 67,
      "outputs": [
        {
          "output_type": "execute_result",
          "data": {
            "text/plain": [
              "0.19511097196038385"
            ]
          },
          "metadata": {},
          "execution_count": 67
        }
      ]
    },
    {
      "cell_type": "markdown",
      "source": [
        ".\n",
        "\n",
        "\n",
        "$$ \\sigma_p = \\sqrt{\\mathbf{w}^T \\mathbf{C} \\mathbf{w}} $$"
      ],
      "metadata": {
        "id": "_WChtZCaIeEz"
      }
    },
    {
      "cell_type": "code",
      "source": [
        "# volatility for the weighted investment in the subset of industry portfolios\n",
        "rk.portfolio_vol(weights, cov.loc[sub,sub])"
      ],
      "metadata": {
        "colab": {
          "base_uri": "https://localhost:8080/"
        },
        "id": "XqgvVfwBFhA_",
        "outputId": "c145335c-633a-4943-ea9a-f7943b7a731f"
      },
      "execution_count": 69,
      "outputs": [
        {
          "output_type": "execute_result",
          "data": {
            "text/plain": [
              "0.055059195776437045"
            ]
          },
          "metadata": {},
          "execution_count": 69
        }
      ]
    },
    {
      "cell_type": "markdown",
      "source": [
        "#2 Asset Frontier"
      ],
      "metadata": {
        "id": "pDmNv3snLYLP"
      }
    },
    {
      "cell_type": "code",
      "source": [
        "# draw another subset of 2 assets\n",
        "sub2 = [\"Games\", \"Fin\"]\n",
        "# fetch expected returns\n",
        "er[sub2]"
      ],
      "metadata": {
        "id": "E7I6JmI5K3SP"
      },
      "execution_count": null,
      "outputs": []
    },
    {
      "cell_type": "code",
      "source": [
        "# create 2 weight combinations for the asset allocation\n",
        "n_points = 20\n",
        "sub2_weights = [np.array([w, 1-w]) for w in np.linspace(0, 1, n_points)]"
      ],
      "metadata": {
        "id": "oOAfGwx8K-4P"
      },
      "execution_count": 71,
      "outputs": []
    },
    {
      "cell_type": "code",
      "source": [],
      "metadata": {
        "id": "0MctnjRRNd7Q"
      },
      "execution_count": 71,
      "outputs": []
    },
    {
      "cell_type": "code",
      "source": [
        "sub2_rets =[rk.portfolio_return(w, er[sub2]) for w in sub2_weights]\n",
        "sub2_vols =[rk.portfolio_vol(w, cov.loc[sub2,sub2]) for w in sub2_weights]\n",
        "import pandas as pd\n",
        "ef = pd.DataFrame({\"R\": sub2_rets, \"Vol\":sub2_vols})\n",
        "ef.plot.scatter(x=\"Vol\", y=\"R\")"
      ],
      "metadata": {
        "colab": {
          "base_uri": "https://localhost:8080/",
          "height": 466
        },
        "id": "Dju8wzt-LiE5",
        "outputId": "0caaf566-6246-4d76-9f98-0cd2a68b0e4e"
      },
      "execution_count": 72,
      "outputs": [
        {
          "output_type": "execute_result",
          "data": {
            "text/plain": [
              "<Axes: xlabel='Vol', ylabel='R'>"
            ]
          },
          "metadata": {},
          "execution_count": 72
        },
        {
          "output_type": "display_data",
          "data": {
            "text/plain": [
              "<Figure size 640x480 with 1 Axes>"
            ],
            "image/png": "[encoded data removed]"
          },
          "metadata": {}
        }
      ]
    },
    {
      "cell_type": "code",
      "source": [
        "sub3 = [\"Fin\", \"Beer\"]\n",
        "rk.plot_ef2(25, er[sub3], cov.loc[sub3,sub3], \".-\")"
      ],
      "metadata": {
        "colab": {
          "base_uri": "https://localhost:8080/",
          "height": 466
        },
        "id": "cvZc9Al5QmHK",
        "outputId": "e3a17fe1-4f5d-4728-c9c8-f04c9327bae7"
      },
      "execution_count": 73,
      "outputs": [
        {
          "output_type": "execute_result",
          "data": {
            "text/plain": [
              "<Axes: xlabel='Vols'>"
            ]
          },
          "metadata": {},
          "execution_count": 73
        },
        {
          "output_type": "display_data",
          "data": {
            "text/plain": [
              "<Figure size 640x480 with 1 Axes>"
            ],
            "image/png": "[encoded data removed]"
          },
          "metadata": {}
        }
      ]
    },
    {
      "cell_type": "code",
      "source": [
        "ind.shape[0]"
      ],
      "metadata": {
        "colab": {
          "base_uri": "https://localhost:8080/"
        },
        "id": "VWw6smSPimcO",
        "outputId": "7cb13df2-5d26-49a6-f2a5-cd457d96026a"
      },
      "execution_count": 80,
      "outputs": [
        {
          "output_type": "execute_result",
          "data": {
            "text/plain": [
              "1110"
            ]
          },
          "metadata": {},
          "execution_count": 80
        }
      ]
    }
  ]
}