{
  "nbformat": 4,
  "nbformat_minor": 0,
  "metadata": {
    "colab": {
      "provenance": [],
      "authorship_tag": "ABX9TyNfFEXNHn3jmI8NYp57nDUg",
      "include_colab_link": true
    },
    "kernelspec": {
      "name": "python3",
      "display_name": "Python 3"
    },
    "language_info": {
      "name": "python"
    }
  },
  "cells": [
    {
      "cell_type": "markdown",
      "metadata": {
        "id": "view-in-github",
        "colab_type": "text"
      },
      "source": [
        "<a href=\"https://colab.research.google.com/github/AjmalSarwary/invest_ml/blob/master/code/gbm_interactive_tool.ipynb\" target=\"_parent\"><img src=\"https://colab.research.google.com/assets/colab-badge.svg\" alt=\"Open In Colab\"/></a>"
      ]
    },
    {
      "cell_type": "markdown",
      "source": [
        "#Interactive Tool for Simulation of GBM"
      ],
      "metadata": {
        "id": "FBVCZmQGFWI0"
      }
    },
    {
      "cell_type": "code",
      "source": [
        "!git clone https://github.com/ajmalsarwary/invest_ml.git\n",
        "%cd /content/invest_ml\n",
        "import sys\n",
        "sys.path.append('/content/invest_ml/code')"
      ],
      "metadata": {
        "colab": {
          "base_uri": "https://localhost:8080/"
        },
        "id": "q0IUqOBF9g1z",
        "outputId": "2c73c962-2517-4ea7-94b2-ad9c6486c977"
      },
      "execution_count": 1,
      "outputs": [
        {
          "output_type": "stream",
          "name": "stdout",
          "text": [
            "Cloning into 'invest_ml'...\n",
            "remote: Enumerating objects: 233, done.\u001b[K\n",
            "remote: Counting objects: 100% (28/28), done.\u001b[K\n",
            "remote: Compressing objects: 100% (24/24), done.\u001b[K\n",
            "remote: Total 233 (delta 8), reused 13 (delta 4), pack-reused 205\u001b[K\n",
            "Receiving objects: 100% (233/233), 2.90 MiB | 17.26 MiB/s, done.\n",
            "Resolving deltas: 100% (75/75), done.\n",
            "/content/invest_ml\n"
          ]
        }
      ]
    },
    {
      "cell_type": "code",
      "execution_count": 2,
      "metadata": {
        "id": "nEnExv0N9bj_"
      },
      "outputs": [],
      "source": [
        "import subprocess\n",
        "import sys\n",
        "\n",
        "def install_packages():\n",
        "    \"\"\"Installs packages.\"\"\"\n",
        "    packages = ['dash', 'dash_bootstrap_components']  # Add any other packages you need\n",
        "    for package in packages:\n",
        "        subprocess.check_call([sys.executable, \"-m\", \"pip\", \"install\", package])"
      ]
    },
    {
      "cell_type": "code",
      "source": [
        "import pandas as pd\n",
        "import numpy as np\n",
        "import invest_risk_kit as rk"
      ],
      "metadata": {
        "id": "I3cLU6xP9dHE"
      },
      "execution_count": 3,
      "outputs": []
    },
    {
      "cell_type": "code",
      "source": [
        "install_packages()"
      ],
      "metadata": {
        "id": "7yoRzL0E99wv"
      },
      "execution_count": 4,
      "outputs": []
    },
    {
      "cell_type": "code",
      "source": [
        "import dash\n",
        "from dash import dcc, html\n",
        "from dash.dependencies import Input, Output\n",
        "import plotly.graph_objs as go\n",
        "import plotly.express as px\n",
        "import dash_bootstrap_components as dbc\n",
        "\n",
        "def show_gbm(n_scenarios, mu, sigma):\n",
        "    \"\"\"\n",
        "    Creates and runs a Dash application to visualize the simulation of stock price evolution\n",
        "    under a Geometric Brownian Motion model.\n",
        "\n",
        "    Parameters:\n",
        "    - n_scenarios: The number of scenarios to simulate.\n",
        "    - mu: The annualized expected return of the stock.\n",
        "    - sigma: The annualized volatility of the stock returns.\n",
        "    \"\"\"\n",
        "    # stylesheet with the .dbc class from dash-bootstrap-templates library\n",
        "    dbc_css = \"https://cdn.jsdelivr.net/gh/AnnMarieW/dash-bootstrap-templates/dbc.min.css\"\n",
        "\n",
        "    # Create a new Dash application\n",
        "    app = dash.Dash(__name__, external_stylesheets=[dbc.themes.MINTY, dbc_css])\n",
        "\n",
        "    # Define the layout of the application\n",
        "    app.layout = html.Div([\n",
        "        html.Label(\"Select Number of Scenarios\", htmlFor=\"n_scenarios\"),\n",
        "        dcc.Slider(id='n_scenarios', min=0, max=n_scenarios, step=1, value=n_scenarios, marks=None, tooltip={\"placement\": \"bottom\", \"always_visible\": True}),\n",
        "        html.Label(\"Select Avg Return\", htmlFor=\"mu\"),\n",
        "        dcc.Slider(id='mu', min=0, max=0.2, step=0.01, value=mu, marks=None, tooltip={\"placement\": \"bottom\", \"always_visible\": True}),\n",
        "        html.Label(\"Select Volatility\", htmlFor=\"sigma\"),\n",
        "        dcc.Slider(id='sigma', min=0, max=0.3, step=0.01, value=sigma, marks=None, tooltip={\"placement\": \"bottom\", \"always_visible\": True}),\n",
        "        dcc.Graph(id='graph')\n",
        "    ])\n",
        "\n",
        "\n",
        "    # Define the callback function that updates the graph\n",
        "    @app.callback(\n",
        "        Output('graph', 'figure'),\n",
        "        [Input('n_scenarios', 'value'), Input('mu', 'value'), Input('sigma', 'value')]\n",
        "    )\n",
        "    def update_graph(n_scenarios, mu, sigma):\n",
        "        s_0 = 100\n",
        "        prices = rk.gbm(n_scenarios=n_scenarios, mu=mu, sigma=sigma, s_0=s_0)\n",
        "        df = pd.DataFrame(prices)\n",
        "\n",
        "        # Create a line chart\n",
        "        fig = px.line(df, y=df.columns, x=df.index, title='Geometric Brownian Motion')\n",
        "\n",
        "        # Update line properties for all traces\n",
        "        fig.update_traces(line=dict(color='#cd5c5c', dash='dot', width=0.9))\n",
        "\n",
        "        # Update x-axis and y-axis titles\n",
        "        fig.update_xaxes(title_text='Periods')\n",
        "        fig.update_yaxes(title_text='Price')\n",
        "\n",
        "        # Add a horizontal line representing the initial stock price\n",
        "        fig.add_shape(\n",
        "            type='line',\n",
        "            x0=0, x1=1, xref='paper',\n",
        "            y0=s_0, y1=s_0, yref='y',\n",
        "            line=dict(color='Black', dash='dot')\n",
        "        )\n",
        "\n",
        "        # Add a marker for the initial stock price\n",
        "        fig.add_trace(go.Scatter(\n",
        "            x=[0],\n",
        "            y=[s_0],\n",
        "            mode='markers',\n",
        "            marker=dict(color='darkred', size=10, opacity=0.2)\n",
        "        ))\n",
        "\n",
        "        # Hide the legend\n",
        "        fig.update_layout(showlegend=False, plot_bgcolor='rgba(211,211,211,0.1)')\n",
        "\n",
        "        return fig\n",
        "\n",
        "    # Start the application\n",
        "    app.run_server(debug=True)\n"
      ],
      "metadata": {
        "id": "GptfcW6b9yyd"
      },
      "execution_count": 9,
      "outputs": []
    },
    {
      "cell_type": "code",
      "source": [
        "show_gbm(100, 0.07, 0.19)"
      ],
      "metadata": {
        "colab": {
          "base_uri": "https://localhost:8080/",
          "height": 671
        },
        "id": "eT-TOvMM92IH",
        "outputId": "75c2af5c-b7b7-43be-b685-bc1d58dd17ef"
      },
      "execution_count": 12,
      "outputs": [
        {
          "output_type": "display_data",
          "data": {
            "text/plain": [
              "<IPython.core.display.Javascript object>"
            ],
            "application/javascript": [
              "(async (port, path, width, height, cache, element) => {\n",
              "    if (!google.colab.kernel.accessAllowed && !cache) {\n",
              "      return;\n",
              "    }\n",
              "    element.appendChild(document.createTextNode(''));\n",
              "    const url = await google.colab.kernel.proxyPort(port, {cache});\n",
              "    const iframe = document.createElement('iframe');\n",
              "    iframe.src = new URL(path, url).toString();\n",
              "    iframe.height = height;\n",
              "    iframe.width = width;\n",
              "    iframe.style.border = 0;\n",
              "    iframe.allow = [\n",
              "        'accelerometer',\n",
              "        'autoplay',\n",
              "        'camera',\n",
              "        'clipboard-read',\n",
              "        'clipboard-write',\n",
              "        'gyroscope',\n",
              "        'magnetometer',\n",
              "        'microphone',\n",
              "        'serial',\n",
              "        'usb',\n",
              "        'xr-spatial-tracking',\n",
              "    ].join('; ');\n",
              "    element.appendChild(iframe);\n",
              "  })(8050, \"/\", \"100%\", 650, false, window.element)"
            ]
          },
          "metadata": {}
        }
      ]
    }
  ]
}